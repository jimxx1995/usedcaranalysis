{
 "cells": [
  {
   "cell_type": "code",
   "execution_count": 1,
   "metadata": {
    "collapsed": true
   },
   "outputs": [],
   "source": [
    "import requests\n",
    "import requests_cache\n",
    "import pandas as pd\n",
    "import itertools\n",
    "from bs4 import BeautifulSoup\n",
    "\n",
    "import pandas as pd\n",
    "\n",
    "import math\n",
    "import time\n",
    "\n",
    "import numpy as np\n",
    "import re\n",
    "\n",
    "#############################################\n",
    "############I am a separation line###########\n",
    "#############################################"
   ]
  },
  {
   "cell_type": "code",
   "execution_count": 2,
   "metadata": {
    "collapsed": true
   },
   "outputs": [],
   "source": [
    "from data_function import *"
   ]
  },
  {
   "cell_type": "code",
   "execution_count": 3,
   "metadata": {},
   "outputs": [
    {
     "ename": "TypeError",
     "evalue": "get_each_page() missing 2 required positional arguments: 'min_price' and 'max_price'",
     "output_type": "error",
     "traceback": [
      "\u001b[0;31m---------------------------------------------------------------------------\u001b[0m",
      "\u001b[0;31mTypeError\u001b[0m                                 Traceback (most recent call last)",
      "\u001b[0;32m<ipython-input-3-327cbb3797d6>\u001b[0m in \u001b[0;36m<module>\u001b[0;34m()\u001b[0m\n\u001b[0;32m----> 1\u001b[0;31m \u001b[0mbmw335i\u001b[0m \u001b[0;34m=\u001b[0m \u001b[0mget_all_search\u001b[0m\u001b[0;34m(\u001b[0m\u001b[0;34m'cto'\u001b[0m\u001b[0;34m,\u001b[0m\u001b[0;34m'335i'\u001b[0m\u001b[0;34m,\u001b[0m\u001b[0;36m2009\u001b[0m\u001b[0;34m,\u001b[0m\u001b[0;36m2011\u001b[0m\u001b[0;34m,\u001b[0m\u001b[0;36m0\u001b[0m\u001b[0;34m,\u001b[0m\u001b[0;36m10000\u001b[0m\u001b[0;34m)\u001b[0m\u001b[0;34m\u001b[0m\u001b[0m\n\u001b[0m",
      "\u001b[0;32m~/Dropbox/self_project/used_car/usedcaranalysis/data_function.py\u001b[0m in \u001b[0;36mget_all_search\u001b[0;34m(seller_type, search_key, min_year, max_year, min_price, max_price)\u001b[0m\n\u001b[1;32m     76\u001b[0m         \u001b[0;32mreturn\u001b[0m \u001b[0mtitle_list\u001b[0m\u001b[0;34m,\u001b[0m \u001b[0mprice_list\u001b[0m\u001b[0;34m,\u001b[0m \u001b[0mlocation_list\u001b[0m\u001b[0;34m,\u001b[0m \u001b[0murl_list\u001b[0m\u001b[0;34m,\u001b[0m \u001b[0mpage_num\u001b[0m\u001b[0;34m\u001b[0m\u001b[0m\n\u001b[1;32m     77\u001b[0m \u001b[0;34m\u001b[0m\u001b[0m\n\u001b[0;32m---> 78\u001b[0;31m     \u001b[0mpage_num\u001b[0m \u001b[0;34m=\u001b[0m \u001b[0mget_each_page\u001b[0m\u001b[0;34m(\u001b[0m\u001b[0mseller_type\u001b[0m\u001b[0;34m,\u001b[0m \u001b[0;36m0\u001b[0m\u001b[0;34m,\u001b[0m\u001b[0msearch_key\u001b[0m\u001b[0;34m,\u001b[0m \u001b[0mmin_year\u001b[0m\u001b[0;34m,\u001b[0m \u001b[0mmax_year\u001b[0m\u001b[0;34m)\u001b[0m\u001b[0;34m[\u001b[0m\u001b[0;36m4\u001b[0m\u001b[0;34m]\u001b[0m\u001b[0;34m\u001b[0m\u001b[0m\n\u001b[0m\u001b[1;32m     79\u001b[0m \u001b[0;34m\u001b[0m\u001b[0m\n\u001b[1;32m     80\u001b[0m     \u001b[0mtitle_list\u001b[0m \u001b[0;34m=\u001b[0m \u001b[0;34m[\u001b[0m\u001b[0mget_each_page\u001b[0m\u001b[0;34m(\u001b[0m\u001b[0mseller_type\u001b[0m\u001b[0;34m,\u001b[0m \u001b[0mpage\u001b[0m\u001b[0;34m,\u001b[0m \u001b[0msearch_key\u001b[0m\u001b[0;34m,\u001b[0m \u001b[0mmin_year\u001b[0m\u001b[0;34m,\u001b[0m \u001b[0mmax_year\u001b[0m\u001b[0;34m)\u001b[0m\u001b[0;34m[\u001b[0m\u001b[0;36m0\u001b[0m\u001b[0;34m]\u001b[0m \u001b[0;32mfor\u001b[0m \u001b[0mpage\u001b[0m \u001b[0;32min\u001b[0m \u001b[0mpage_num\u001b[0m\u001b[0;34m]\u001b[0m\u001b[0;34m\u001b[0m\u001b[0m\n",
      "\u001b[0;31mTypeError\u001b[0m: get_each_page() missing 2 required positional arguments: 'min_price' and 'max_price'"
     ]
    }
   ],
   "source": [
    "bmw335i = get_all_search('cto','335i',2009,2011,0,10000)"
   ]
  },
  {
   "cell_type": "code",
   "execution_count": 5,
   "metadata": {},
   "outputs": [
    {
     "data": {
      "text/plain": [
       "pandas.core.series.Series"
      ]
     },
     "execution_count": 5,
     "metadata": {},
     "output_type": "execute_result"
    }
   ],
   "source": [
    "type(bmw335i.link)"
   ]
  },
  {
   "cell_type": "code",
   "execution_count": 6,
   "metadata": {
    "collapsed": true
   },
   "outputs": [],
   "source": [
    "seller_type = 'cto'\n",
    "page = '120'\n",
    "search_key = 'civic'\n",
    "min_price = 10\n",
    "max_price = 50000\n",
    "min_year = 2009\n",
    "max_year = 2009\n",
    "\n",
    "url = 'https://sfbay.craigslist.org/search/' + seller_type + '?s=' + str(page) + '&query=' + search_key + '&min_price=' + str(min_price) + '&max_price=' + str(max_price) + '&min_auto_year=' + str(min_year) + '&max_auto_year=' + str(max_year)"
   ]
  },
  {
   "cell_type": "code",
   "execution_count": null,
   "metadata": {
    "collapsed": true
   },
   "outputs": [],
   "source": [
    "https://sfbay.craigslist.org/search/cto?query=335i&min_price=0&max_price=100000&min_auto_year=2009&max_auto_year=2009"
   ]
  },
  {
   "cell_type": "code",
   "execution_count": 7,
   "metadata": {},
   "outputs": [
    {
     "data": {
      "text/plain": [
       "'https://sfbay.craigslist.org/search/cto?s=120&query=civic&min_price=10&max_price=50000&min_auto_year=2009&max_auto_year=2009'"
      ]
     },
     "execution_count": 7,
     "metadata": {},
     "output_type": "execute_result"
    }
   ],
   "source": [
    "url"
   ]
  },
  {
   "cell_type": "code",
   "execution_count": null,
   "metadata": {
    "collapsed": true
   },
   "outputs": [],
   "source": []
  }
 ],
 "metadata": {
  "kernelspec": {
   "display_name": "Python 3",
   "language": "python",
   "name": "python3"
  },
  "language_info": {
   "codemirror_mode": {
    "name": "ipython",
    "version": 3
   },
   "file_extension": ".py",
   "mimetype": "text/x-python",
   "name": "python",
   "nbconvert_exporter": "python",
   "pygments_lexer": "ipython3",
   "version": "3.6.5"
  },
  "toc": {
   "base_numbering": 1,
   "nav_menu": {},
   "number_sections": true,
   "sideBar": true,
   "skip_h1_title": false,
   "title_cell": "Table of Contents",
   "title_sidebar": "Contents",
   "toc_cell": false,
   "toc_position": {},
   "toc_section_display": true,
   "toc_window_display": false
  }
 },
 "nbformat": 4,
 "nbformat_minor": 2
}
