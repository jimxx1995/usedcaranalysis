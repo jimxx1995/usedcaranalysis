{
 "cells": [
  {
   "cell_type": "code",
   "execution_count": 1,
   "metadata": {
    "collapsed": true
   },
   "outputs": [],
   "source": [
    "import requests\n",
    "import requests_cache\n",
    "import pandas as pd\n",
    "import itertools\n",
    "from bs4 import BeautifulSoup\n",
    "\n",
    "import pandas as pd\n",
    "\n",
    "import math\n",
    "import time\n",
    "\n",
    "import numpy as np\n",
    "import re\n",
    "\n",
    "#############################################\n",
    "############I am a separation line###########\n",
    "#############################################"
   ]
  },
  {
   "cell_type": "code",
   "execution_count": 4,
   "metadata": {
    "collapsed": true
   },
   "outputs": [],
   "source": [
    "requests_cache.install_cache('craigslist_cache')"
   ]
  },
  {
   "cell_type": "code",
   "execution_count": 5,
   "metadata": {
    "collapsed": true
   },
   "outputs": [],
   "source": [
    "from data_function import *"
   ]
  },
  {
   "cell_type": "code",
   "execution_count": 6,
   "metadata": {},
   "outputs": [],
   "source": [
    "bmw335i = get_all_search('cto','335i',2009,2011,0,10000)"
   ]
  },
  {
   "cell_type": "code",
   "execution_count": 42,
   "metadata": {},
   "outputs": [
    {
     "data": {
      "text/html": [
       "<div>\n",
       "<style scoped>\n",
       "    .dataframe tbody tr th:only-of-type {\n",
       "        vertical-align: middle;\n",
       "    }\n",
       "\n",
       "    .dataframe tbody tr th {\n",
       "        vertical-align: top;\n",
       "    }\n",
       "\n",
       "    .dataframe thead th {\n",
       "        text-align: right;\n",
       "    }\n",
       "</style>\n",
       "<table border=\"1\" class=\"dataframe\">\n",
       "  <thead>\n",
       "    <tr style=\"text-align: right;\">\n",
       "      <th></th>\n",
       "      <th>link</th>\n",
       "      <th>location</th>\n",
       "      <th>price</th>\n",
       "      <th>title</th>\n",
       "    </tr>\n",
       "  </thead>\n",
       "  <tbody>\n",
       "    <tr>\n",
       "      <th>0</th>\n",
       "      <td>https://sfbay.craigslist.org/sfc/cto/d/2010-bm...</td>\n",
       "      <td>(ROSEVILLE)</td>\n",
       "      <td>9900</td>\n",
       "      <td>2010 BMW 335i M-sport package, Fully Loaded, G...</td>\n",
       "    </tr>\n",
       "    <tr>\n",
       "      <th>1</th>\n",
       "      <td>https://sfbay.craigslist.org/eby/cto/d/2009-bm...</td>\n",
       "      <td>(dublin / pleasanton / livermore)</td>\n",
       "      <td>10000</td>\n",
       "      <td>2009 BMW 335I coupe</td>\n",
       "    </tr>\n",
       "    <tr>\n",
       "      <th>2</th>\n",
       "      <td>https://sfbay.craigslist.org/sby/cto/d/2009-bm...</td>\n",
       "      <td>(san jose east)</td>\n",
       "      <td>9700</td>\n",
       "      <td>2009 bmw 335i</td>\n",
       "    </tr>\n",
       "    <tr>\n",
       "      <th>3</th>\n",
       "      <td>https://sfbay.craigslist.org/pen/cto/d/2009-bm...</td>\n",
       "      <td>(belmont)</td>\n",
       "      <td>9500</td>\n",
       "      <td>2009 BMW 335i Convertible 2D Hard Top</td>\n",
       "    </tr>\n",
       "    <tr>\n",
       "      <th>4</th>\n",
       "      <td>https://sfbay.craigslist.org/pen/cto/d/2009-bm...</td>\n",
       "      <td>(belmont)</td>\n",
       "      <td>9500</td>\n",
       "      <td>2009 BMW 335i Convertible 2D</td>\n",
       "    </tr>\n",
       "  </tbody>\n",
       "</table>\n",
       "</div>"
      ],
      "text/plain": [
       "                                                link  \\\n",
       "0  https://sfbay.craigslist.org/sfc/cto/d/2010-bm...   \n",
       "1  https://sfbay.craigslist.org/eby/cto/d/2009-bm...   \n",
       "2  https://sfbay.craigslist.org/sby/cto/d/2009-bm...   \n",
       "3  https://sfbay.craigslist.org/pen/cto/d/2009-bm...   \n",
       "4  https://sfbay.craigslist.org/pen/cto/d/2009-bm...   \n",
       "\n",
       "                             location  price  \\\n",
       "0                         (ROSEVILLE)   9900   \n",
       "1   (dublin / pleasanton / livermore)  10000   \n",
       "2                     (san jose east)   9700   \n",
       "3                           (belmont)   9500   \n",
       "4                           (belmont)   9500   \n",
       "\n",
       "                                               title  \n",
       "0  2010 BMW 335i M-sport package, Fully Loaded, G...  \n",
       "1                                2009 BMW 335I coupe  \n",
       "2                                      2009 bmw 335i  \n",
       "3              2009 BMW 335i Convertible 2D Hard Top  \n",
       "4                       2009 BMW 335i Convertible 2D  "
      ]
     },
     "execution_count": 42,
     "metadata": {},
     "output_type": "execute_result"
    }
   ],
   "source": [
    "bmw335i.head()"
   ]
  },
  {
   "cell_type": "code",
   "execution_count": 10,
   "metadata": {
    "collapsed": true
   },
   "outputs": [],
   "source": [
    "car_url = 'https://sfbay.craigslist.org/sfc/cto/d/2010-bmw-335i-sport-package/6630655119.html'"
   ]
  },
  {
   "cell_type": "code",
   "execution_count": 59,
   "metadata": {},
   "outputs": [],
   "source": [
    "info_list = []\n",
    "for i in bmw335i.link:\n",
    "    page = requests.get(i)\n",
    "    soup = BeautifulSoup(page.content, 'html.parser')\n",
    "    span = soup.find_all('div', class_ = 'mapAndAttrs')\n",
    "    info = span[0].find_all('p', class_ = 'attrgroup')[1].find_all('span')\n",
    "    #all detail for one car\n",
    "    info_detail = [i.text for i in info]\n",
    "    info_list.append(info_detail)\n",
    "    \n",
    "mileage = []\n",
    "for i in info_list:\n",
    "    for j in i:\n",
    "        if 'odometer:' in j:\n",
    "            mileage.append(j)\n",
    "        else:\n",
    "            mileage.append('na')"
   ]
  },
  {
   "cell_type": "code",
   "execution_count": 72,
   "metadata": {},
   "outputs": [],
   "source": []
  },
  {
   "cell_type": "code",
   "execution_count": 73,
   "metadata": {},
   "outputs": [
    {
     "name": "stdout",
     "output_type": "stream",
     "text": [
      "odometer: 90678\n"
     ]
    }
   ],
   "source": [
    "for i in info_list[0]:\n",
    "    if 'odometer:' in i:\n",
    "        print(i)"
   ]
  },
  {
   "cell_type": "code",
   "execution_count": 74,
   "metadata": {},
   "outputs": [
    {
     "data": {
      "text/plain": [
       "['na',\n",
       " 'na',\n",
       " 'na',\n",
       " 'na',\n",
       " 'odometer: 90678',\n",
       " 'na',\n",
       " 'na',\n",
       " 'na',\n",
       " 'na',\n",
       " 'na',\n",
       " 'na',\n",
       " 'na',\n",
       " 'na',\n",
       " 'odometer: 116000',\n",
       " 'na',\n",
       " 'na',\n",
       " 'na',\n",
       " 'na',\n",
       " 'na',\n",
       " 'na',\n",
       " 'odometer: 123',\n",
       " 'na',\n",
       " 'na',\n",
       " 'na',\n",
       " 'na',\n",
       " 'na',\n",
       " 'na',\n",
       " 'na',\n",
       " 'na',\n",
       " 'na',\n",
       " 'odometer: 145726',\n",
       " 'na',\n",
       " 'na',\n",
       " 'na',\n",
       " 'na',\n",
       " 'na',\n",
       " 'na',\n",
       " 'na',\n",
       " 'odometer: 145726',\n",
       " 'na',\n",
       " 'na',\n",
       " 'na',\n",
       " 'na',\n",
       " 'na',\n",
       " 'na',\n",
       " 'na',\n",
       " 'na',\n",
       " 'na',\n",
       " 'na',\n",
       " 'na',\n",
       " 'odometer: 87000',\n",
       " 'na',\n",
       " 'na',\n",
       " 'na',\n",
       " 'na',\n",
       " 'na',\n",
       " 'na',\n",
       " 'na',\n",
       " 'na',\n",
       " 'na',\n",
       " 'na',\n",
       " 'na',\n",
       " 'odometer: 137613',\n",
       " 'na',\n",
       " 'na',\n",
       " 'na',\n",
       " 'na',\n",
       " 'na',\n",
       " 'na',\n",
       " 'na',\n",
       " 'na',\n",
       " 'na',\n",
       " 'na',\n",
       " 'odometer: 159000',\n",
       " 'na',\n",
       " 'na',\n",
       " 'na',\n",
       " 'na',\n",
       " 'na',\n",
       " 'na',\n",
       " 'na',\n",
       " 'na',\n",
       " 'odometer: 98000',\n",
       " 'na',\n",
       " 'na',\n",
       " 'na',\n",
       " 'na',\n",
       " 'na',\n",
       " 'na',\n",
       " 'na',\n",
       " 'na',\n",
       " 'odometer: 91278',\n",
       " 'na',\n",
       " 'na',\n",
       " 'na',\n",
       " 'na',\n",
       " 'na',\n",
       " 'na',\n",
       " 'na',\n",
       " 'na',\n",
       " 'na',\n",
       " 'na',\n",
       " 'na',\n",
       " 'na',\n",
       " 'odometer: 87000',\n",
       " 'na',\n",
       " 'na',\n",
       " 'na',\n",
       " 'na']"
      ]
     },
     "execution_count": 74,
     "metadata": {},
     "output_type": "execute_result"
    }
   ],
   "source": [
    "mileage"
   ]
  },
  {
   "cell_type": "code",
   "execution_count": 57,
   "metadata": {},
   "outputs": [],
   "source": [
    "if 'desmond' in 'esmond is a boy':\n",
    "    print('yes')"
   ]
  },
  {
   "cell_type": "code",
   "execution_count": null,
   "metadata": {
    "collapsed": true
   },
   "outputs": [],
   "source": []
  }
 ],
 "metadata": {
  "kernelspec": {
   "display_name": "Python 3",
   "language": "python",
   "name": "python3"
  },
  "language_info": {
   "codemirror_mode": {
    "name": "ipython",
    "version": 3
   },
   "file_extension": ".py",
   "mimetype": "text/x-python",
   "name": "python",
   "nbconvert_exporter": "python",
   "pygments_lexer": "ipython3",
   "version": "3.6.5"
  },
  "toc": {
   "base_numbering": 1,
   "nav_menu": {},
   "number_sections": true,
   "sideBar": true,
   "skip_h1_title": false,
   "title_cell": "Table of Contents",
   "title_sidebar": "Contents",
   "toc_cell": false,
   "toc_position": {},
   "toc_section_display": true,
   "toc_window_display": false
  }
 },
 "nbformat": 4,
 "nbformat_minor": 2
}
