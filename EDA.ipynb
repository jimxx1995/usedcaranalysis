{
 "cells": [
  {
   "cell_type": "code",
   "execution_count": 1,
   "metadata": {},
   "outputs": [],
   "source": [
    "import requests\n",
    "import requests_cache\n",
    "import pandas as pd\n",
    "import itertools\n",
    "from bs4 import BeautifulSoup\n",
    "import pandas as pd\n",
    "import math\n",
    "import time\n",
    "\n",
    "from bokeh.models import ColumnDataSource, LabelSet,HoverTool\n",
    "from bokeh.plotting import figure, show, output_file\n",
    "from bokeh.sampledata.periodic_table import elements"
   ]
  },
  {
   "cell_type": "code",
   "execution_count": 2,
   "metadata": {},
   "outputs": [],
   "source": [
    "requests_cache.install_cache('craigslist_cache')"
   ]
  },
  {
   "cell_type": "code",
   "execution_count": 3,
   "metadata": {},
   "outputs": [],
   "source": [
    "from data_function import *\n",
    "from cleaning_function import *"
   ]
  },
  {
   "cell_type": "markdown",
   "metadata": {},
   "source": [
    "# Data Preparation "
   ]
  },
  {
   "cell_type": "markdown",
   "metadata": {},
   "source": [
    "### Web Scraping "
   ]
  },
  {
   "cell_type": "code",
   "execution_count": 4,
   "metadata": {
    "scrolled": false
   },
   "outputs": [
    {
     "data": {
      "text/html": [
       "<div>\n",
       "<style scoped>\n",
       "    .dataframe tbody tr th:only-of-type {\n",
       "        vertical-align: middle;\n",
       "    }\n",
       "\n",
       "    .dataframe tbody tr th {\n",
       "        vertical-align: top;\n",
       "    }\n",
       "\n",
       "    .dataframe thead th {\n",
       "        text-align: right;\n",
       "    }\n",
       "</style>\n",
       "<table border=\"1\" class=\"dataframe\">\n",
       "  <thead>\n",
       "    <tr style=\"text-align: right;\">\n",
       "      <th></th>\n",
       "      <th>location</th>\n",
       "      <th>price</th>\n",
       "      <th>title</th>\n",
       "    </tr>\n",
       "  </thead>\n",
       "  <tbody>\n",
       "    <tr>\n",
       "      <th>0</th>\n",
       "      <td>(watsonville)</td>\n",
       "      <td>2000</td>\n",
       "      <td>2000 Honda civic Ex</td>\n",
       "    </tr>\n",
       "    <tr>\n",
       "      <th>1</th>\n",
       "      <td>(san jose north)</td>\n",
       "      <td>3000</td>\n",
       "      <td>Very clean Honda Civic: 2000: 146k: $3k</td>\n",
       "    </tr>\n",
       "    <tr>\n",
       "      <th>2</th>\n",
       "      <td>(san jose east)</td>\n",
       "      <td>2200</td>\n",
       "      <td>2000 Honda Civic Lx</td>\n",
       "    </tr>\n",
       "    <tr>\n",
       "      <th>3</th>\n",
       "      <td>(sunnyvale)</td>\n",
       "      <td>1300</td>\n",
       "      <td>Honda civic 2000</td>\n",
       "    </tr>\n",
       "    <tr>\n",
       "      <th>4</th>\n",
       "      <td>(vallejo / benicia)</td>\n",
       "      <td>2100</td>\n",
       "      <td>1999 Honda Civic Sedan</td>\n",
       "    </tr>\n",
       "  </tbody>\n",
       "</table>\n",
       "</div>"
      ],
      "text/plain": [
       "               location  price                                    title\n",
       "0         (watsonville)   2000                      2000 Honda civic Ex\n",
       "1      (san jose north)   3000  Very clean Honda Civic: 2000: 146k: $3k\n",
       "2       (san jose east)   2200                      2000 Honda Civic Lx\n",
       "3           (sunnyvale)   1300                         Honda civic 2000\n",
       "4   (vallejo / benicia)   2100                   1999 Honda Civic Sedan"
      ]
     },
     "execution_count": 4,
     "metadata": {},
     "output_type": "execute_result"
    }
   ],
   "source": [
    "df = get_all_search('cto', 'civic', 1999, 2000)\n",
    "df.head()"
   ]
  },
  {
   "cell_type": "markdown",
   "metadata": {},
   "source": [
    "### Data Cleaning"
   ]
  },
  {
   "cell_type": "code",
   "execution_count": 6,
   "metadata": {
    "scrolled": true
   },
   "outputs": [
    {
     "name": "stderr",
     "output_type": "stream",
     "text": [
      "C:\\Users\\Jim\\Desktop\\Github\\usedcaranalysis\\cleaning_function.py:13: SettingWithCopyWarning: \n",
      "A value is trying to be set on a copy of a slice from a DataFrame\n",
      "\n",
      "See the caveats in the documentation: http://pandas.pydata.org/pandas-docs/stable/indexing.html#indexing-view-versus-copy\n",
      "  location_list[i] = re.sub(r'[()]', \"\", location_list[i])\n",
      "C:\\Users\\Jim\\Desktop\\Github\\usedcaranalysis\\cleaning_function.py:22: SettingWithCopyWarning: \n",
      "A value is trying to be set on a copy of a slice from a DataFrame\n",
      "\n",
      "See the caveats in the documentation: http://pandas.pydata.org/pandas-docs/stable/indexing.html#indexing-view-versus-copy\n",
      "  location_list[i] = location_list[i].strip(' ')\n"
     ]
    },
    {
     "data": {
      "text/html": [
       "<div>\n",
       "<style scoped>\n",
       "    .dataframe tbody tr th:only-of-type {\n",
       "        vertical-align: middle;\n",
       "    }\n",
       "\n",
       "    .dataframe tbody tr th {\n",
       "        vertical-align: top;\n",
       "    }\n",
       "\n",
       "    .dataframe thead th {\n",
       "        text-align: right;\n",
       "    }\n",
       "</style>\n",
       "<table border=\"1\" class=\"dataframe\">\n",
       "  <thead>\n",
       "    <tr style=\"text-align: right;\">\n",
       "      <th></th>\n",
       "      <th>location</th>\n",
       "      <th>price</th>\n",
       "      <th>title</th>\n",
       "    </tr>\n",
       "  </thead>\n",
       "  <tbody>\n",
       "    <tr>\n",
       "      <th>0</th>\n",
       "      <td>Watsonville</td>\n",
       "      <td>2000</td>\n",
       "      <td>2000 Honda civic Ex</td>\n",
       "    </tr>\n",
       "    <tr>\n",
       "      <th>1</th>\n",
       "      <td>San jose north</td>\n",
       "      <td>3000</td>\n",
       "      <td>Very clean Honda Civic: 2000: 146k: $3k</td>\n",
       "    </tr>\n",
       "    <tr>\n",
       "      <th>2</th>\n",
       "      <td>San jose east</td>\n",
       "      <td>2200</td>\n",
       "      <td>2000 Honda Civic Lx</td>\n",
       "    </tr>\n",
       "    <tr>\n",
       "      <th>3</th>\n",
       "      <td>Sunnyvale</td>\n",
       "      <td>1300</td>\n",
       "      <td>Honda civic 2000</td>\n",
       "    </tr>\n",
       "    <tr>\n",
       "      <th>4</th>\n",
       "      <td>Vallejo / benicia</td>\n",
       "      <td>2100</td>\n",
       "      <td>1999 Honda Civic Sedan</td>\n",
       "    </tr>\n",
       "  </tbody>\n",
       "</table>\n",
       "</div>"
      ],
      "text/plain": [
       "            location  price                                    title\n",
       "0        Watsonville   2000                      2000 Honda civic Ex\n",
       "1     San jose north   3000  Very clean Honda Civic: 2000: 146k: $3k\n",
       "2      San jose east   2200                      2000 Honda Civic Lx\n",
       "3          Sunnyvale   1300                         Honda civic 2000\n",
       "4  Vallejo / benicia   2100                   1999 Honda Civic Sedan"
      ]
     },
     "execution_count": 6,
     "metadata": {},
     "output_type": "execute_result"
    }
   ],
   "source": [
    "df = df.replace(np.nan, 'Unknown', regex=True)\n",
    "df.location = clean_location(df.location)\n",
    "df.location = list(map(lambda x: x if len(x) != 0 else 'Unknown', df.location)) # Place Unknown if the location is empty\n",
    "df.head()\n"
   ]
  },
  {
   "cell_type": "markdown",
   "metadata": {},
   "source": [
    "# Data Visualization"
   ]
  },
  {
   "cell_type": "code",
   "execution_count": 7,
   "metadata": {},
   "outputs": [],
   "source": [
    "location=df[\"location\"]\n",
    "price = df[\"price\"]\n",
    "low = min(price)\n",
    "high = max(price)\n",
    "palette = [\"#053061\", \"#2166ac\", \"#4393c3\", \"#92c5de\", \"#d1e5f0\",\n",
    "           \"#f7f7f7\", \"#fddbc7\", \"#f4a582\", \"#d6604d\", \"#b2182b\", \"#67001f\"]\n",
    "price_inds = [int(10*(x-low)/(high-low)) for x in price] \n",
    "df['price_colors'] = [palette[i] for i in price_inds]\n",
    "\n",
    "\n",
    "TITLE = \"Price v.s. Location\"\n",
    "TOOLS = \"hover,pan,wheel_zoom,box_zoom,reset,save\"\n",
    "\n",
    "p = figure(y_range=list(set(location)), tools=TOOLS, toolbar_location=\"above\", logo=\"grey\", plot_width=1200, title=TITLE)\n",
    "hover = p.select(dict(type=HoverTool))\n",
    "hover.tooltips = [\n",
    "    (\"price\", \"@price\"),\n",
    "    (\"location:\", \"@location\"),\n",
    "    (\"title\", \"@title\"),\n",
    "]\n",
    "\n",
    "source = ColumnDataSource(df)\n",
    "\n",
    "p.circle('price', 'location', size=15, source=source, color='price_colors', line_width=3)\n",
    "\n",
    "output_file(\"Data Visualization.html\")\n",
    "\n",
    "show(p)"
   ]
  }
 ],
 "metadata": {
  "kernelspec": {
   "display_name": "Python 3",
   "language": "python",
   "name": "python3"
  },
  "language_info": {
   "codemirror_mode": {
    "name": "ipython",
    "version": 3
   },
   "file_extension": ".py",
   "mimetype": "text/x-python",
   "name": "python",
   "nbconvert_exporter": "python",
   "pygments_lexer": "ipython3",
   "version": "3.6.3"
  },
  "toc": {
   "base_numbering": 1,
   "nav_menu": {},
   "number_sections": true,
   "sideBar": true,
   "skip_h1_title": false,
   "title_cell": "Table of Contents",
   "title_sidebar": "Contents",
   "toc_cell": false,
   "toc_position": {},
   "toc_section_display": true,
   "toc_window_display": false
  }
 },
 "nbformat": 4,
 "nbformat_minor": 2
}
