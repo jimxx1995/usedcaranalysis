{
 "cells": [
  {
   "cell_type": "code",
   "execution_count": 1,
   "metadata": {
    "ExecuteTime": {
     "end_time": "2018-07-28T00:52:22.687216Z",
     "start_time": "2018-07-28T00:52:21.131131Z"
    }
   },
   "outputs": [],
   "source": [
    "import requests\n",
    "import requests_cache\n",
    "import pandas as pd\n",
    "import itertools\n",
    "from bs4 import BeautifulSoup\n",
    "import pandas as pd\n",
    "import math\n",
    "import time\n",
    "\n",
    "from bokeh.models import ColumnDataSource, LabelSet,HoverTool\n",
    "from bokeh.plotting import figure, show, output_file\n",
    "from bokeh.sampledata.periodic_table import elements"
   ]
  },
  {
   "cell_type": "code",
   "execution_count": 2,
   "metadata": {
    "ExecuteTime": {
     "end_time": "2018-07-28T00:52:22.691693Z",
     "start_time": "2018-07-28T00:52:22.688699Z"
    }
   },
   "outputs": [],
   "source": [
    "requests_cache.install_cache('craigslist_cache')"
   ]
  },
  {
   "cell_type": "code",
   "execution_count": 3,
   "metadata": {
    "ExecuteTime": {
     "end_time": "2018-07-28T00:52:22.700177Z",
     "start_time": "2018-07-28T00:52:22.694189Z"
    }
   },
   "outputs": [],
   "source": [
    "from data_function import *"
   ]
  },
  {
   "cell_type": "markdown",
   "metadata": {},
   "source": [
    "# Data Preparation "
   ]
  },
  {
   "cell_type": "markdown",
   "metadata": {},
   "source": [
    "### Web Scraping "
   ]
  },
  {
   "cell_type": "code",
   "execution_count": 5,
   "metadata": {
    "ExecuteTime": {
     "end_time": "2018-07-28T00:54:18.208486Z",
     "start_time": "2018-07-28T00:53:56.695440Z"
    },
    "scrolled": false
   },
   "outputs": [
    {
     "data": {
      "text/html": [
       "<div>\n",
       "<style scoped>\n",
       "    .dataframe tbody tr th:only-of-type {\n",
       "        vertical-align: middle;\n",
       "    }\n",
       "\n",
       "    .dataframe tbody tr th {\n",
       "        vertical-align: top;\n",
       "    }\n",
       "\n",
       "    .dataframe thead th {\n",
       "        text-align: right;\n",
       "    }\n",
       "</style>\n",
       "<table border=\"1\" class=\"dataframe\">\n",
       "  <thead>\n",
       "    <tr style=\"text-align: right;\">\n",
       "      <th></th>\n",
       "      <th>post_title</th>\n",
       "      <th>mileage</th>\n",
       "      <th>price</th>\n",
       "      <th>condition</th>\n",
       "      <th>title_status</th>\n",
       "      <th>transmission</th>\n",
       "      <th>drive</th>\n",
       "      <th>location</th>\n",
       "      <th>body_text</th>\n",
       "      <th>link</th>\n",
       "    </tr>\n",
       "  </thead>\n",
       "  <tbody>\n",
       "    <tr>\n",
       "      <th>0</th>\n",
       "      <td>2008 Honda Civic LX clean title LOW MILE</td>\n",
       "      <td>88700</td>\n",
       "      <td>6999</td>\n",
       "      <td>like new</td>\n",
       "      <td>clean</td>\n",
       "      <td>automatic</td>\n",
       "      <td>fwd</td>\n",
       "      <td>(hayward / castro valley)</td>\n",
       "      <td>2008 Honda Civic LX 2 Owner,clean title,passed...</td>\n",
       "      <td>https://sfbay.craigslist.org/eby/cto/d/2008-ho...</td>\n",
       "    </tr>\n",
       "    <tr>\n",
       "      <th>1</th>\n",
       "      <td>Honda Civic Hybrid 2006* Clean Title*V.Low miles</td>\n",
       "      <td>56650</td>\n",
       "      <td>5999</td>\n",
       "      <td>like new</td>\n",
       "      <td>clean</td>\n",
       "      <td>automatic</td>\n",
       "      <td>fwd</td>\n",
       "      <td>(hayward / castro valley)</td>\n",
       "      <td>2006 Honda Civic Hybrid LX 1 Owner,clean title...</td>\n",
       "      <td>https://sfbay.craigslist.org/eby/cto/d/honda-c...</td>\n",
       "    </tr>\n",
       "    <tr>\n",
       "      <th>2</th>\n",
       "      <td>2010 Honda Civic EX Coupe 2 Door</td>\n",
       "      <td>85250</td>\n",
       "      <td>8500</td>\n",
       "      <td>excellent</td>\n",
       "      <td>clean</td>\n",
       "      <td>automatic</td>\n",
       "      <td>fwd</td>\n",
       "      <td>(albany / el cerrito)</td>\n",
       "      <td>I am the second owner and this car is in excel...</td>\n",
       "      <td>https://sfbay.craigslist.org/eby/cto/d/2010-ho...</td>\n",
       "    </tr>\n",
       "    <tr>\n",
       "      <th>3</th>\n",
       "      <td>Honda Civic si</td>\n",
       "      <td></td>\n",
       "      <td>5000</td>\n",
       "      <td></td>\n",
       "      <td>clean</td>\n",
       "      <td>manual</td>\n",
       "      <td></td>\n",
       "      <td>(san leandro)</td>\n",
       "      <td>Hello there, I am selling a 2006 Honda Civic S...</td>\n",
       "      <td>https://sfbay.craigslist.org/eby/cto/d/honda-c...</td>\n",
       "    </tr>\n",
       "    <tr>\n",
       "      <th>4</th>\n",
       "      <td>2007 HONDA CIVIC EX, 92K MILES, EXCELLENT COND...</td>\n",
       "      <td>92000</td>\n",
       "      <td>5250</td>\n",
       "      <td>excellent</td>\n",
       "      <td>salvage</td>\n",
       "      <td>automatic</td>\n",
       "      <td></td>\n",
       "      <td>(san jose north)</td>\n",
       "      <td>2007 HONDA CIVIC EX, 92K MILS, AT, AM/FM SINGL...</td>\n",
       "      <td>https://sfbay.craigslist.org/sby/cto/d/2007-ho...</td>\n",
       "    </tr>\n",
       "  </tbody>\n",
       "</table>\n",
       "</div>"
      ],
      "text/plain": [
       "                                          post_title mileage  price  \\\n",
       "0           2008 Honda Civic LX clean title LOW MILE   88700   6999   \n",
       "1   Honda Civic Hybrid 2006* Clean Title*V.Low miles   56650   5999   \n",
       "2                   2010 Honda Civic EX Coupe 2 Door   85250   8500   \n",
       "3                                     Honda Civic si           5000   \n",
       "4  2007 HONDA CIVIC EX, 92K MILES, EXCELLENT COND...   92000   5250   \n",
       "\n",
       "   condition title_status transmission drive                    location  \\\n",
       "0   like new        clean    automatic   fwd   (hayward / castro valley)   \n",
       "1   like new        clean    automatic   fwd   (hayward / castro valley)   \n",
       "2  excellent        clean    automatic   fwd       (albany / el cerrito)   \n",
       "3                   clean       manual                     (san leandro)   \n",
       "4  excellent      salvage    automatic                  (san jose north)   \n",
       "\n",
       "                                           body_text  \\\n",
       "0  2008 Honda Civic LX 2 Owner,clean title,passed...   \n",
       "1  2006 Honda Civic Hybrid LX 1 Owner,clean title...   \n",
       "2  I am the second owner and this car is in excel...   \n",
       "3  Hello there, I am selling a 2006 Honda Civic S...   \n",
       "4  2007 HONDA CIVIC EX, 92K MILS, AT, AM/FM SINGL...   \n",
       "\n",
       "                                                link  \n",
       "0  https://sfbay.craigslist.org/eby/cto/d/2008-ho...  \n",
       "1  https://sfbay.craigslist.org/eby/cto/d/honda-c...  \n",
       "2  https://sfbay.craigslist.org/eby/cto/d/2010-ho...  \n",
       "3  https://sfbay.craigslist.org/eby/cto/d/honda-c...  \n",
       "4  https://sfbay.craigslist.org/sby/cto/d/2007-ho...  "
      ]
     },
     "execution_count": 5,
     "metadata": {},
     "output_type": "execute_result"
    }
   ],
   "source": [
    "df = get_all_search('san francisco bay area', 'owner','civic',2006,2011,0,100000)\n",
    "df.head()"
   ]
  },
  {
   "cell_type": "markdown",
   "metadata": {},
   "source": [
    "### Data Cleaning"
   ]
  },
  {
   "cell_type": "code",
   "execution_count": 6,
   "metadata": {
    "ExecuteTime": {
     "end_time": "2018-07-28T00:55:36.254330Z",
     "start_time": "2018-07-28T00:55:04.330748Z"
    }
   },
   "outputs": [
    {
     "name": "stderr",
     "output_type": "stream",
     "text": [
      "C:\\Users\\Jim\\Desktop\\Github\\usedcaranalysis\\data_function.py:215: SettingWithCopyWarning: \n",
      "A value is trying to be set on a copy of a slice from a DataFrame\n",
      "\n",
      "See the caveats in the documentation: http://pandas.pydata.org/pandas-docs/stable/indexing.html#indexing-view-versus-copy\n",
      "  location_list[i] = re.sub(r'[()]', \"\", location_list[i])\n",
      "C:\\Users\\Jim\\Desktop\\Github\\usedcaranalysis\\data_function.py:224: SettingWithCopyWarning: \n",
      "A value is trying to be set on a copy of a slice from a DataFrame\n",
      "\n",
      "See the caveats in the documentation: http://pandas.pydata.org/pandas-docs/stable/indexing.html#indexing-view-versus-copy\n",
      "  location_list[i] = location_list[i].strip(' ')\n",
      "C:\\Users\\Jim\\Desktop\\Github\\usedcaranalysis\\data_function.py:220: SettingWithCopyWarning: \n",
      "A value is trying to be set on a copy of a slice from a DataFrame\n",
      "\n",
      "See the caveats in the documentation: http://pandas.pydata.org/pandas-docs/stable/indexing.html#indexing-view-versus-copy\n",
      "  location_list[i] = re.split( r'[\\,]', location_list[i])[0]\n",
      "C:\\Users\\Jim\\Desktop\\Github\\usedcaranalysis\\data_function.py:221: SettingWithCopyWarning: \n",
      "A value is trying to be set on a copy of a slice from a DataFrame\n",
      "\n",
      "See the caveats in the documentation: http://pandas.pydata.org/pandas-docs/stable/indexing.html#indexing-view-versus-copy\n",
      "  location_list[i] = location_list[i].strip(' ')\n",
      "C:\\Users\\Jim\\Desktop\\Github\\usedcaranalysis\\data_function.py:223: SettingWithCopyWarning: \n",
      "A value is trying to be set on a copy of a slice from a DataFrame\n",
      "\n",
      "See the caveats in the documentation: http://pandas.pydata.org/pandas-docs/stable/indexing.html#indexing-view-versus-copy\n",
      "  location_list[i] = 'Sacramento'\n"
     ]
    },
    {
     "data": {
      "text/html": [
       "<div>\n",
       "<style scoped>\n",
       "    .dataframe tbody tr th:only-of-type {\n",
       "        vertical-align: middle;\n",
       "    }\n",
       "\n",
       "    .dataframe tbody tr th {\n",
       "        vertical-align: top;\n",
       "    }\n",
       "\n",
       "    .dataframe thead th {\n",
       "        text-align: right;\n",
       "    }\n",
       "</style>\n",
       "<table border=\"1\" class=\"dataframe\">\n",
       "  <thead>\n",
       "    <tr style=\"text-align: right;\">\n",
       "      <th></th>\n",
       "      <th>post_title</th>\n",
       "      <th>mileage</th>\n",
       "      <th>price</th>\n",
       "      <th>condition</th>\n",
       "      <th>title_status</th>\n",
       "      <th>transmission</th>\n",
       "      <th>drive</th>\n",
       "      <th>location</th>\n",
       "      <th>body_text</th>\n",
       "      <th>link</th>\n",
       "    </tr>\n",
       "  </thead>\n",
       "  <tbody>\n",
       "    <tr>\n",
       "      <th>0</th>\n",
       "      <td>2008 Honda Civic LX clean title LOW MILE</td>\n",
       "      <td>88700</td>\n",
       "      <td>6999</td>\n",
       "      <td>like new</td>\n",
       "      <td>clean</td>\n",
       "      <td>automatic</td>\n",
       "      <td>fwd</td>\n",
       "      <td>Hayward / castro valley</td>\n",
       "      <td>2008 Honda Civic LX 2 Owner,clean title,passed...</td>\n",
       "      <td>https://sfbay.craigslist.org/eby/cto/d/2008-ho...</td>\n",
       "    </tr>\n",
       "    <tr>\n",
       "      <th>1</th>\n",
       "      <td>Honda Civic Hybrid 2006* Clean Title*V.Low miles</td>\n",
       "      <td>56650</td>\n",
       "      <td>5999</td>\n",
       "      <td>like new</td>\n",
       "      <td>clean</td>\n",
       "      <td>automatic</td>\n",
       "      <td>fwd</td>\n",
       "      <td>Hayward / castro valley</td>\n",
       "      <td>2006 Honda Civic Hybrid LX 1 Owner,clean title...</td>\n",
       "      <td>https://sfbay.craigslist.org/eby/cto/d/honda-c...</td>\n",
       "    </tr>\n",
       "    <tr>\n",
       "      <th>2</th>\n",
       "      <td>2010 Honda Civic EX Coupe 2 Door</td>\n",
       "      <td>85250</td>\n",
       "      <td>8500</td>\n",
       "      <td>excellent</td>\n",
       "      <td>clean</td>\n",
       "      <td>automatic</td>\n",
       "      <td>fwd</td>\n",
       "      <td>Albany / el cerrito</td>\n",
       "      <td>I am the second owner and this car is in excel...</td>\n",
       "      <td>https://sfbay.craigslist.org/eby/cto/d/2010-ho...</td>\n",
       "    </tr>\n",
       "    <tr>\n",
       "      <th>3</th>\n",
       "      <td>Honda Civic si</td>\n",
       "      <td></td>\n",
       "      <td>5000</td>\n",
       "      <td></td>\n",
       "      <td>clean</td>\n",
       "      <td>manual</td>\n",
       "      <td></td>\n",
       "      <td>San leandro</td>\n",
       "      <td>Hello there, I am selling a 2006 Honda Civic S...</td>\n",
       "      <td>https://sfbay.craigslist.org/eby/cto/d/honda-c...</td>\n",
       "    </tr>\n",
       "    <tr>\n",
       "      <th>4</th>\n",
       "      <td>2007 HONDA CIVIC EX, 92K MILES, EXCELLENT COND...</td>\n",
       "      <td>92000</td>\n",
       "      <td>5250</td>\n",
       "      <td>excellent</td>\n",
       "      <td>salvage</td>\n",
       "      <td>automatic</td>\n",
       "      <td></td>\n",
       "      <td>San jose north</td>\n",
       "      <td>2007 HONDA CIVIC EX, 92K MILS, AT, AM/FM SINGL...</td>\n",
       "      <td>https://sfbay.craigslist.org/sby/cto/d/2007-ho...</td>\n",
       "    </tr>\n",
       "  </tbody>\n",
       "</table>\n",
       "</div>"
      ],
      "text/plain": [
       "                                          post_title mileage  price  \\\n",
       "0           2008 Honda Civic LX clean title LOW MILE   88700   6999   \n",
       "1   Honda Civic Hybrid 2006* Clean Title*V.Low miles   56650   5999   \n",
       "2                   2010 Honda Civic EX Coupe 2 Door   85250   8500   \n",
       "3                                     Honda Civic si           5000   \n",
       "4  2007 HONDA CIVIC EX, 92K MILES, EXCELLENT COND...   92000   5250   \n",
       "\n",
       "   condition title_status transmission drive                 location  \\\n",
       "0   like new        clean    automatic   fwd  Hayward / castro valley   \n",
       "1   like new        clean    automatic   fwd  Hayward / castro valley   \n",
       "2  excellent        clean    automatic   fwd      Albany / el cerrito   \n",
       "3                   clean       manual                    San leandro   \n",
       "4  excellent      salvage    automatic                 San jose north   \n",
       "\n",
       "                                           body_text  \\\n",
       "0  2008 Honda Civic LX 2 Owner,clean title,passed...   \n",
       "1  2006 Honda Civic Hybrid LX 1 Owner,clean title...   \n",
       "2  I am the second owner and this car is in excel...   \n",
       "3  Hello there, I am selling a 2006 Honda Civic S...   \n",
       "4  2007 HONDA CIVIC EX, 92K MILS, AT, AM/FM SINGL...   \n",
       "\n",
       "                                                link  \n",
       "0  https://sfbay.craigslist.org/eby/cto/d/2008-ho...  \n",
       "1  https://sfbay.craigslist.org/eby/cto/d/honda-c...  \n",
       "2  https://sfbay.craigslist.org/eby/cto/d/2010-ho...  \n",
       "3  https://sfbay.craigslist.org/eby/cto/d/honda-c...  \n",
       "4  https://sfbay.craigslist.org/sby/cto/d/2007-ho...  "
      ]
     },
     "execution_count": 6,
     "metadata": {},
     "output_type": "execute_result"
    }
   ],
   "source": [
    "df = df.replace(np.nan, 'Unknown', regex=True)\n",
    "df.location = clean_location(df.location)\n",
    "df.location = list(map(lambda x: x if len(x) != 0 else 'Unknown', df.location)) # Place Unknown if the location is empty\n",
    "df.head()\n"
   ]
  },
  {
   "cell_type": "markdown",
   "metadata": {},
   "source": [
    "# Data Visualization"
   ]
  },
  {
   "cell_type": "code",
   "execution_count": 10,
   "metadata": {
    "ExecuteTime": {
     "end_time": "2018-07-28T00:59:27.651874Z",
     "start_time": "2018-07-28T00:59:27.586969Z"
    }
   },
   "outputs": [],
   "source": [
    "location=df[\"location\"]\n",
    "price = df[\"price\"]\n",
    "low = min(price)\n",
    "high = max(price)\n",
    "palette = [\"#053061\", \"#2166ac\", \"#4393c3\", \"#92c5de\", \"#d1e5f0\",\n",
    "           \"#f7f7f7\", \"#fddbc7\", \"#f4a582\", \"#d6604d\", \"#b2182b\", \"#67001f\"]\n",
    "price_inds = [int(10*(x-low)/(high-low)) for x in price] \n",
    "df['price_colors'] = [palette[i] for i in price_inds]\n",
    "\n",
    "\n",
    "TITLE = \"Price v.s. Location\"\n",
    "TOOLS = \"hover,pan,wheel_zoom,box_zoom,reset,save\"\n",
    "               \n",
    "p = figure(y_range=list(set(location)), tools=TOOLS, toolbar_location=\"above\", logo=\"grey\", plot_width=1200, title=TITLE)\n",
    "               \n",
    "hover = p.select(dict(type=HoverTool))\n",
    "hover.tooltips = [\n",
    "    (\"price\", \"@price\"),\n",
    "    (\"location:\", \"@location\"),\n",
    "    (\"title\", \"@post_title\"),\n",
    "    (\"mileage\", \"@mileage\"),\n",
    "    (\"condition\", \"@condition\"),\n",
    "    (\"title_status\", \"@title_status\"),\n",
    "    (\"transmission\", \"@transmission\")\n",
    "]\n",
    "source = ColumnDataSource(df)\n",
    "\n",
    "p.circle('price', 'location', size=15, source=source, color='price_colors', line_width=3)\n",
    "output_file(\"Data_Visualization.html\")\n"
   ]
  }
 ],
 "metadata": {
  "kernelspec": {
   "display_name": "Python 3",
   "language": "python",
   "name": "python3"
  },
  "language_info": {
   "codemirror_mode": {
    "name": "ipython",
    "version": 3
   },
   "file_extension": ".py",
   "mimetype": "text/x-python",
   "name": "python",
   "nbconvert_exporter": "python",
   "pygments_lexer": "ipython3",
   "version": "3.6.3"
  },
  "toc": {
   "base_numbering": 1,
   "nav_menu": {},
   "number_sections": true,
   "sideBar": true,
   "skip_h1_title": false,
   "title_cell": "Table of Contents",
   "title_sidebar": "Contents",
   "toc_cell": false,
   "toc_position": {},
   "toc_section_display": true,
   "toc_window_display": false
  }
 },
 "nbformat": 4,
 "nbformat_minor": 2
}
