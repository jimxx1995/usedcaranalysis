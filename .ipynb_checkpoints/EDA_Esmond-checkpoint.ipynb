{
 "cells": [
  {
   "cell_type": "code",
   "execution_count": 2,
   "metadata": {
    "collapsed": true
   },
   "outputs": [],
   "source": [
    "requests_cache.install_cache('craigslist_cache')"
   ]
  },
  {
   "cell_type": "code",
   "execution_count": 1,
   "metadata": {
    "collapsed": true
   },
   "outputs": [],
   "source": [
    "from data_function import *"
   ]
  },
  {
   "cell_type": "code",
   "execution_count": 2,
   "metadata": {
    "collapsed": true
   },
   "outputs": [],
   "source": [
    "bmw335i = get_all_search('cto','335i',2009,2011,0,10000)"
   ]
  },
  {
   "cell_type": "code",
   "execution_count": 3,
   "metadata": {},
   "outputs": [
    {
     "data": {
      "text/html": [
       "<div>\n",
       "<style scoped>\n",
       "    .dataframe tbody tr th:only-of-type {\n",
       "        vertical-align: middle;\n",
       "    }\n",
       "\n",
       "    .dataframe tbody tr th {\n",
       "        vertical-align: top;\n",
       "    }\n",
       "\n",
       "    .dataframe thead th {\n",
       "        text-align: right;\n",
       "    }\n",
       "</style>\n",
       "<table border=\"1\" class=\"dataframe\">\n",
       "  <thead>\n",
       "    <tr style=\"text-align: right;\">\n",
       "      <th></th>\n",
       "      <th>link</th>\n",
       "      <th>location</th>\n",
       "      <th>mileage</th>\n",
       "      <th>price</th>\n",
       "      <th>title</th>\n",
       "    </tr>\n",
       "  </thead>\n",
       "  <tbody>\n",
       "    <tr>\n",
       "      <th>0</th>\n",
       "      <td>https://sfbay.craigslist.org/pen/cto/d/2009-bm...</td>\n",
       "      <td></td>\n",
       "      <td>83000</td>\n",
       "      <td>8900</td>\n",
       "      <td>2009 bmw 335i   83k miles</td>\n",
       "    </tr>\n",
       "    <tr>\n",
       "      <th>1</th>\n",
       "      <td>https://sfbay.craigslist.org/sfc/cto/d/2010-bm...</td>\n",
       "      <td>(ROSEVILLE)</td>\n",
       "      <td>90678</td>\n",
       "      <td>9900</td>\n",
       "      <td>2010 BMW 335i M-sport package, Fully Loaded, G...</td>\n",
       "    </tr>\n",
       "    <tr>\n",
       "      <th>2</th>\n",
       "      <td>https://sfbay.craigslist.org/eby/cto/d/2009-bm...</td>\n",
       "      <td>(dublin / pleasanton / livermore)</td>\n",
       "      <td>116000</td>\n",
       "      <td>10000</td>\n",
       "      <td>2009 BMW 335I coupe</td>\n",
       "    </tr>\n",
       "    <tr>\n",
       "      <th>3</th>\n",
       "      <td>https://sfbay.craigslist.org/sby/cto/d/2009-bm...</td>\n",
       "      <td>(san jose east)</td>\n",
       "      <td>123</td>\n",
       "      <td>9700</td>\n",
       "      <td>2009 bmw 335i</td>\n",
       "    </tr>\n",
       "    <tr>\n",
       "      <th>4</th>\n",
       "      <td>https://sfbay.craigslist.org/pen/cto/d/2009-bm...</td>\n",
       "      <td>(belmont)</td>\n",
       "      <td>145726</td>\n",
       "      <td>9500</td>\n",
       "      <td>2009 BMW 335i Convertible 2D Hard Top</td>\n",
       "    </tr>\n",
       "  </tbody>\n",
       "</table>\n",
       "</div>"
      ],
      "text/plain": [
       "                                                link  \\\n",
       "0  https://sfbay.craigslist.org/pen/cto/d/2009-bm...   \n",
       "1  https://sfbay.craigslist.org/sfc/cto/d/2010-bm...   \n",
       "2  https://sfbay.craigslist.org/eby/cto/d/2009-bm...   \n",
       "3  https://sfbay.craigslist.org/sby/cto/d/2009-bm...   \n",
       "4  https://sfbay.craigslist.org/pen/cto/d/2009-bm...   \n",
       "\n",
       "                             location mileage  price  \\\n",
       "0                                       83000   8900   \n",
       "1                         (ROSEVILLE)   90678   9900   \n",
       "2   (dublin / pleasanton / livermore)  116000  10000   \n",
       "3                     (san jose east)     123   9700   \n",
       "4                           (belmont)  145726   9500   \n",
       "\n",
       "                                               title  \n",
       "0                          2009 bmw 335i   83k miles  \n",
       "1  2010 BMW 335i M-sport package, Fully Loaded, G...  \n",
       "2                                2009 BMW 335I coupe  \n",
       "3                                      2009 bmw 335i  \n",
       "4              2009 BMW 335i Convertible 2D Hard Top  "
      ]
     },
     "execution_count": 3,
     "metadata": {},
     "output_type": "execute_result"
    }
   ],
   "source": [
    "bmw335i.head()"
   ]
  }
 ],
 "metadata": {
  "kernelspec": {
   "display_name": "Python 3",
   "language": "python",
   "name": "python3"
  },
  "language_info": {
   "codemirror_mode": {
    "name": "ipython",
    "version": 3
   },
   "file_extension": ".py",
   "mimetype": "text/x-python",
   "name": "python",
   "nbconvert_exporter": "python",
   "pygments_lexer": "ipython3",
   "version": "3.6.5"
  },
  "toc": {
   "base_numbering": 1,
   "nav_menu": {},
   "number_sections": true,
   "sideBar": true,
   "skip_h1_title": false,
   "title_cell": "Table of Contents",
   "title_sidebar": "Contents",
   "toc_cell": false,
   "toc_position": {},
   "toc_section_display": true,
   "toc_window_display": false
  }
 },
 "nbformat": 4,
 "nbformat_minor": 2
}
