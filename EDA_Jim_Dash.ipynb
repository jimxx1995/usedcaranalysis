{
 "cells": [
  {
   "cell_type": "code",
   "execution_count": 1,
   "metadata": {
    "ExecuteTime": {
     "end_time": "2018-07-25T01:31:42.773778Z",
     "start_time": "2018-07-25T01:31:25.333976Z"
    }
   },
   "outputs": [],
   "source": [
    "import requests\n",
    "import requests_cache\n",
    "import pandas as pd\n",
    "import itertools\n",
    "from bs4 import BeautifulSoup\n",
    "import pandas as pd\n",
    "import math\n",
    "import time\n",
    "import shelve\n",
    "import dash\n",
    "import dash_core_components as dcc\n",
    "import dash_html_components as html\n",
    "import pandas as pd\n",
    "import plotly.graph_objs as go\n",
    "\n",
    "requests_cache.install_cache('craigslist_cache')\n",
    "from data_function import *\n",
    "df = get_all_search('san francisco bay area', 'owner','civic',2006,2011,0,100000)\n"
   ]
  },
  {
   "cell_type": "code",
   "execution_count": 2,
   "metadata": {
    "ExecuteTime": {
     "end_time": "2018-07-25T01:31:42.806692Z",
     "start_time": "2018-07-25T01:31:42.775249Z"
    }
   },
   "outputs": [
    {
     "data": {
      "text/html": [
       "<div>\n",
       "<style scoped>\n",
       "    .dataframe tbody tr th:only-of-type {\n",
       "        vertical-align: middle;\n",
       "    }\n",
       "\n",
       "    .dataframe tbody tr th {\n",
       "        vertical-align: top;\n",
       "    }\n",
       "\n",
       "    .dataframe thead th {\n",
       "        text-align: right;\n",
       "    }\n",
       "</style>\n",
       "<table border=\"1\" class=\"dataframe\">\n",
       "  <thead>\n",
       "    <tr style=\"text-align: right;\">\n",
       "      <th></th>\n",
       "      <th>post_title</th>\n",
       "      <th>mileage</th>\n",
       "      <th>price</th>\n",
       "      <th>condition</th>\n",
       "      <th>title_status</th>\n",
       "      <th>transmission</th>\n",
       "      <th>drive</th>\n",
       "      <th>location</th>\n",
       "      <th>body_text</th>\n",
       "      <th>link</th>\n",
       "    </tr>\n",
       "  </thead>\n",
       "  <tbody>\n",
       "    <tr>\n",
       "      <th>0</th>\n",
       "      <td>2008 Honda Civic LX clean title LOW MILE</td>\n",
       "      <td>88700</td>\n",
       "      <td>6999</td>\n",
       "      <td>like new</td>\n",
       "      <td>clean</td>\n",
       "      <td>automatic</td>\n",
       "      <td>fwd</td>\n",
       "      <td>(hayward / castro valley)</td>\n",
       "      <td>2008 Honda Civic LX 2 Owner,clean title,passed...</td>\n",
       "      <td>https://sfbay.craigslist.org/eby/cto/d/2008-ho...</td>\n",
       "    </tr>\n",
       "    <tr>\n",
       "      <th>1</th>\n",
       "      <td>Honda Civic Hybrid 2006* Clean Title*V.Low miles</td>\n",
       "      <td>56650</td>\n",
       "      <td>5999</td>\n",
       "      <td>like new</td>\n",
       "      <td>clean</td>\n",
       "      <td>automatic</td>\n",
       "      <td>fwd</td>\n",
       "      <td>(hayward / castro valley)</td>\n",
       "      <td>2006 Honda Civic Hybrid LX 1 Owner,clean title...</td>\n",
       "      <td>https://sfbay.craigslist.org/eby/cto/d/honda-c...</td>\n",
       "    </tr>\n",
       "    <tr>\n",
       "      <th>2</th>\n",
       "      <td>2010 Honda Civic EX Coupe 2 Door</td>\n",
       "      <td>85250</td>\n",
       "      <td>8500</td>\n",
       "      <td>excellent</td>\n",
       "      <td>clean</td>\n",
       "      <td>automatic</td>\n",
       "      <td>fwd</td>\n",
       "      <td>(albany / el cerrito)</td>\n",
       "      <td>I am the second owner and this car is in excel...</td>\n",
       "      <td>https://sfbay.craigslist.org/eby/cto/d/2010-ho...</td>\n",
       "    </tr>\n",
       "    <tr>\n",
       "      <th>3</th>\n",
       "      <td>Honda Civic si</td>\n",
       "      <td></td>\n",
       "      <td>5000</td>\n",
       "      <td></td>\n",
       "      <td>clean</td>\n",
       "      <td>manual</td>\n",
       "      <td></td>\n",
       "      <td>(san leandro)</td>\n",
       "      <td>Hello there, I am selling a 2006 Honda Civic S...</td>\n",
       "      <td>https://sfbay.craigslist.org/eby/cto/d/honda-c...</td>\n",
       "    </tr>\n",
       "    <tr>\n",
       "      <th>4</th>\n",
       "      <td>2007 HONDA CIVIC EX, 92K MILES, EXCELLENT COND...</td>\n",
       "      <td>92000</td>\n",
       "      <td>5250</td>\n",
       "      <td>excellent</td>\n",
       "      <td>salvage</td>\n",
       "      <td>automatic</td>\n",
       "      <td></td>\n",
       "      <td>(san jose north)</td>\n",
       "      <td>2007 HONDA CIVIC EX, 92K MILS, AT, AM/FM SINGL...</td>\n",
       "      <td>https://sfbay.craigslist.org/sby/cto/d/2007-ho...</td>\n",
       "    </tr>\n",
       "  </tbody>\n",
       "</table>\n",
       "</div>"
      ],
      "text/plain": [
       "                                          post_title mileage  price  \\\n",
       "0           2008 Honda Civic LX clean title LOW MILE   88700   6999   \n",
       "1   Honda Civic Hybrid 2006* Clean Title*V.Low miles   56650   5999   \n",
       "2                   2010 Honda Civic EX Coupe 2 Door   85250   8500   \n",
       "3                                     Honda Civic si           5000   \n",
       "4  2007 HONDA CIVIC EX, 92K MILES, EXCELLENT COND...   92000   5250   \n",
       "\n",
       "   condition title_status transmission drive                    location  \\\n",
       "0   like new        clean    automatic   fwd   (hayward / castro valley)   \n",
       "1   like new        clean    automatic   fwd   (hayward / castro valley)   \n",
       "2  excellent        clean    automatic   fwd       (albany / el cerrito)   \n",
       "3                   clean       manual                     (san leandro)   \n",
       "4  excellent      salvage    automatic                  (san jose north)   \n",
       "\n",
       "                                           body_text  \\\n",
       "0  2008 Honda Civic LX 2 Owner,clean title,passed...   \n",
       "1  2006 Honda Civic Hybrid LX 1 Owner,clean title...   \n",
       "2  I am the second owner and this car is in excel...   \n",
       "3  Hello there, I am selling a 2006 Honda Civic S...   \n",
       "4  2007 HONDA CIVIC EX, 92K MILS, AT, AM/FM SINGL...   \n",
       "\n",
       "                                                link  \n",
       "0  https://sfbay.craigslist.org/eby/cto/d/2008-ho...  \n",
       "1  https://sfbay.craigslist.org/eby/cto/d/honda-c...  \n",
       "2  https://sfbay.craigslist.org/eby/cto/d/2010-ho...  \n",
       "3  https://sfbay.craigslist.org/eby/cto/d/honda-c...  \n",
       "4  https://sfbay.craigslist.org/sby/cto/d/2007-ho...  "
      ]
     },
     "execution_count": 2,
     "metadata": {},
     "output_type": "execute_result"
    }
   ],
   "source": [
    "df.head()"
   ]
  },
  {
   "cell_type": "markdown",
   "metadata": {},
   "source": [
    "### Data Cleaning"
   ]
  },
  {
   "cell_type": "code",
   "execution_count": 3,
   "metadata": {
    "ExecuteTime": {
     "end_time": "2018-07-25T01:32:12.182562Z",
     "start_time": "2018-07-25T01:31:42.809185Z"
    }
   },
   "outputs": [
    {
     "name": "stderr",
     "output_type": "stream",
     "text": [
      "C:\\Users\\Jim\\Desktop\\Github\\usedcaranalysis\\data_function.py:215: SettingWithCopyWarning:\n",
      "\n",
      "\n",
      "A value is trying to be set on a copy of a slice from a DataFrame\n",
      "\n",
      "See the caveats in the documentation: http://pandas.pydata.org/pandas-docs/stable/indexing.html#indexing-view-versus-copy\n",
      "\n",
      "C:\\Users\\Jim\\Desktop\\Github\\usedcaranalysis\\data_function.py:224: SettingWithCopyWarning:\n",
      "\n",
      "\n",
      "A value is trying to be set on a copy of a slice from a DataFrame\n",
      "\n",
      "See the caveats in the documentation: http://pandas.pydata.org/pandas-docs/stable/indexing.html#indexing-view-versus-copy\n",
      "\n",
      "C:\\Users\\Jim\\Desktop\\Github\\usedcaranalysis\\data_function.py:220: SettingWithCopyWarning:\n",
      "\n",
      "\n",
      "A value is trying to be set on a copy of a slice from a DataFrame\n",
      "\n",
      "See the caveats in the documentation: http://pandas.pydata.org/pandas-docs/stable/indexing.html#indexing-view-versus-copy\n",
      "\n",
      "C:\\Users\\Jim\\Desktop\\Github\\usedcaranalysis\\data_function.py:221: SettingWithCopyWarning:\n",
      "\n",
      "\n",
      "A value is trying to be set on a copy of a slice from a DataFrame\n",
      "\n",
      "See the caveats in the documentation: http://pandas.pydata.org/pandas-docs/stable/indexing.html#indexing-view-versus-copy\n",
      "\n",
      "C:\\Users\\Jim\\Desktop\\Github\\usedcaranalysis\\data_function.py:223: SettingWithCopyWarning:\n",
      "\n",
      "\n",
      "A value is trying to be set on a copy of a slice from a DataFrame\n",
      "\n",
      "See the caveats in the documentation: http://pandas.pydata.org/pandas-docs/stable/indexing.html#indexing-view-versus-copy\n",
      "\n"
     ]
    }
   ],
   "source": [
    "df = df.replace(np.nan, 'Unknown', regex=True)\n",
    "df.location = clean_location(df.location)\n",
    "df.location = [x if len(x) != 0 else 'Unknown' for x in df.location] # Place Unknown if the location is empty\n",
    "df.mileage = [str(x)+' miles' if x != '' else 'Unknown mileage' for x in df.mileage]\n",
    "df.condition = ['condition:'+str(x) if x != '' else 'Unknown condition' for x in df.condition]\n"
   ]
  },
  {
   "cell_type": "code",
   "execution_count": 5,
   "metadata": {
    "ExecuteTime": {
     "end_time": "2018-07-25T01:33:20.720862Z",
     "start_time": "2018-07-25T01:33:20.709896Z"
    }
   },
   "outputs": [],
   "source": [
    "with shelve.open('result/vars1') as db:\n",
    "    db['Viz_df'] = df\n"
   ]
  },
  {
   "cell_type": "markdown",
   "metadata": {},
   "source": [
    "## Data Visualization"
   ]
  },
  {
   "cell_type": "markdown",
   "metadata": {},
   "source": [
    "**Please re-run this notebook and open the link of the below cell from your browser for the visualization**"
   ]
  },
  {
   "cell_type": "code",
   "execution_count": null,
   "metadata": {
    "ExecuteTime": {
     "start_time": "2018-07-25T01:33:36.458Z"
    }
   },
   "outputs": [
    {
     "name": "stderr",
     "output_type": "stream",
     "text": [
      " * Running on http://127.0.0.1:8050/ (Press CTRL+C to quit)\n"
     ]
    }
   ],
   "source": [
    "app = dash.Dash()\n",
    "\n",
    "available_indicators = df['title_status'].unique()\n",
    "list_price = list(np.linspace(0,100000,21))\n",
    "#mileage column cannot be select and convert to str at the same time, must use concat \n",
    "\n",
    "text_scatter = pd.concat([df[['post_title', 'condition', 'link']],df['mileage'].astype(str)], axis=1).apply(lambda x: '<br>'.join(x), axis=1)\n",
    "\n",
    "#color for the plot\n",
    "palette = [\"#053061\", \"#2166ac\", \"#4393c3\", \"#92c5de\", \"#d1e5f0\",\n",
    "           \"#f7f7f7\", \"#fddbc7\", \"#f4a582\", \"#d6604d\", \"#b2182b\", \"#67001f\"]\n",
    "price = df[\"price\"]\n",
    "low = min(price)\n",
    "high = max(price)\n",
    "price_inds = [int(10*(x-low)/(high-low)) for x in price] \n",
    "df['price_colors'] = [palette[i] for i in price_inds]\n",
    "\n",
    "\n",
    "\n",
    "app.layout = html.Div([\n",
    "    html.Div([\n",
    "        \n",
    "    dcc.Markdown('# Craigslist Data Visualization'),\n",
    "    dcc.Markdown('### Title Status Selection '),\n",
    "        html.Div([\n",
    "            dcc.Dropdown(\n",
    "                id='xaxis-column',\n",
    "                options=[{'label': i, 'value': i} for i in available_indicators],\n",
    "                value='clean'),\n",
    "        ],\n",
    "        style={'width': '48%', 'display': 'inline-block'}),\n",
    "    ]),\n",
    "\n",
    "    dcc.Graph(id='indicator-graphic'),\n",
    "    dcc.Markdown('### Price Range'),\n",
    "    dcc.Slider(\n",
    "        id='price--slider',\n",
    "        min=0,\n",
    "        max=200000,\n",
    "        value=200000,\n",
    "        step=None,\n",
    "        marks={str(int(m)): str(int(m))  for m in list_price}\n",
    "    )\n",
    "#     html.Div(id='slider-output-container')\n",
    "])\n",
    "\n",
    "        \n",
    "@app.callback(\n",
    "    dash.dependencies.Output('indicator-graphic', 'figure'),\n",
    "    [dash.dependencies.Input('xaxis-column', 'value'),\n",
    "    dash.dependencies.Input('price--slider', 'value')])\n",
    "#   dash.dependencies.Input('mileage--slider', 'value'\n",
    "def update_graph(xaxis_column_name, price_value):\n",
    "    dff = df[df['price'] <= int(price_value)]\n",
    "    return {\n",
    "        'data': [go.Scatter(\n",
    "            x=dff[dff['title_status'] == xaxis_column_name]['location'],\n",
    "            y=dff[dff['title_status'] == xaxis_column_name]['price'],\n",
    "            mode='markers',\n",
    "            text= text_scatter,\n",
    "            hoverinfo= 'text',\n",
    "            marker={\n",
    "                'size': 15,\n",
    "                'opacity': 0.5,\n",
    "                'line': {'width': 0.5, 'color': 'white'},\n",
    "                'color' :  dff['price_colors']\n",
    "            }\n",
    "        )],\n",
    "        'layout': go.Layout(\n",
    "            title='Price vs Location',\n",
    "            margin={'l': 40, 'b': 120, 't': 30, 'r': 50},\n",
    "            height=400,\n",
    "            hovermode='closest'\n",
    "        )\n",
    "    }\n",
    "\n",
    "# @app.callback(\n",
    "#     dash.dependencies.Output('slider-output-container', 'children'),\n",
    "#     [dash.dependencies.Input('price--slider', 'value')])\n",
    "# def update_output(value):\n",
    "#     return 'The car price range is {} to {}'.format('0',value)\n",
    "\n",
    "if __name__ == '__main__':\n",
    "    app.run_server()\n"
   ]
  }
 ],
 "metadata": {
  "kernelspec": {
   "display_name": "Python 3",
   "language": "python",
   "name": "python3"
  },
  "language_info": {
   "codemirror_mode": {
    "name": "ipython",
    "version": 3
   },
   "file_extension": ".py",
   "mimetype": "text/x-python",
   "name": "python",
   "nbconvert_exporter": "python",
   "pygments_lexer": "ipython3",
   "version": "3.6.3"
  }
 },
 "nbformat": 4,
 "nbformat_minor": 2
}
